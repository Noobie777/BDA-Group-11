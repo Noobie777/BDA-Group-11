{
 "cells": [
  {
   "cell_type": "markdown",
   "metadata": {},
   "source": [
    "# Group 11 \n",
    "### Machine Learning on distributed dask cluster\n",
    "\n",
    "#### Bharath Kumar Reddy Bhoothpur\n",
    "#### Chandana Sai Sri Chirra\n",
    "#### Nikhil Reddy Muppidi\n",
    "#### Poojith Chandra Borra\n",
    "#### Teja Vijayudu Rayankula\n",
    "\n"
   ]
  },
  {
   "cell_type": "markdown",
   "metadata": {},
   "source": [
    "### Enabling the client for fargate distributed cluster testing"
   ]
  },
  {
   "cell_type": "code",
   "execution_count": 78,
   "metadata": {},
   "outputs": [
    {
     "name": "stderr",
     "output_type": "stream",
     "text": [
      "/home/ec2-user/anaconda3/envs/daskpy36/lib/python3.6/site-packages/distributed/client.py:1079: VersionMismatchWarning: Mismatched versions found\n",
      "\n",
      "cloudpickle\n",
      "+-----------------------+---------+\n",
      "|                       | version |\n",
      "+-----------------------+---------+\n",
      "| client                | 2.0.0   |\n",
      "| scheduler             | 1.6.0   |\n",
      "| tcp://11.0.3.109:9000 | 1.6.0   |\n",
      "| tcp://11.0.3.112:9000 | 1.6.0   |\n",
      "| tcp://11.0.3.141:9000 | 1.6.0   |\n",
      "| tcp://11.0.3.151:9000 | 1.6.0   |\n",
      "| tcp://11.0.3.153:9000 | 1.6.0   |\n",
      "| tcp://11.0.3.162:9000 | 1.6.0   |\n",
      "| tcp://11.0.3.168:9000 | 1.6.0   |\n",
      "| tcp://11.0.3.16:9000  | 1.6.0   |\n",
      "| tcp://11.0.3.176:9000 | 1.6.0   |\n",
      "| tcp://11.0.3.18:9000  | 1.6.0   |\n",
      "| tcp://11.0.3.210:9000 | 1.6.0   |\n",
      "| tcp://11.0.3.212:9000 | 1.6.0   |\n",
      "| tcp://11.0.3.231:9000 | 1.6.0   |\n",
      "| tcp://11.0.3.237:9000 | 1.6.0   |\n",
      "| tcp://11.0.3.50:9000  | 1.6.0   |\n",
      "| tcp://11.0.3.61:9000  | 1.6.0   |\n",
      "| tcp://11.0.3.68:9000  | 1.6.0   |\n",
      "| tcp://11.0.3.76:9000  | 1.6.0   |\n",
      "| tcp://11.0.3.78:9000  | 1.6.0   |\n",
      "| tcp://11.0.3.8:9000   | 1.6.0   |\n",
      "+-----------------------+---------+\n",
      "\n",
      "msgpack\n",
      "+-----------------------+---------+\n",
      "|                       | version |\n",
      "+-----------------------+---------+\n",
      "| client                | 1.0.2   |\n",
      "| scheduler             | 1.0.0   |\n",
      "| tcp://11.0.3.109:9000 | 1.0.0   |\n",
      "| tcp://11.0.3.112:9000 | 1.0.0   |\n",
      "| tcp://11.0.3.141:9000 | 1.0.0   |\n",
      "| tcp://11.0.3.151:9000 | 1.0.0   |\n",
      "| tcp://11.0.3.153:9000 | 1.0.0   |\n",
      "| tcp://11.0.3.162:9000 | 1.0.0   |\n",
      "| tcp://11.0.3.168:9000 | 1.0.0   |\n",
      "| tcp://11.0.3.16:9000  | 1.0.0   |\n",
      "| tcp://11.0.3.176:9000 | 1.0.0   |\n",
      "| tcp://11.0.3.18:9000  | 1.0.0   |\n",
      "| tcp://11.0.3.210:9000 | 1.0.0   |\n",
      "| tcp://11.0.3.212:9000 | 1.0.0   |\n",
      "| tcp://11.0.3.231:9000 | 1.0.0   |\n",
      "| tcp://11.0.3.237:9000 | 1.0.0   |\n",
      "| tcp://11.0.3.50:9000  | 1.0.0   |\n",
      "| tcp://11.0.3.61:9000  | 1.0.0   |\n",
      "| tcp://11.0.3.68:9000  | 1.0.0   |\n",
      "| tcp://11.0.3.76:9000  | 1.0.0   |\n",
      "| tcp://11.0.3.78:9000  | 1.0.0   |\n",
      "| tcp://11.0.3.8:9000   | 1.0.0   |\n",
      "+-----------------------+---------+\n",
      "\n",
      "numpy\n",
      "+-----------------------+---------+\n",
      "|                       | version |\n",
      "+-----------------------+---------+\n",
      "| client                | 1.19.5  |\n",
      "| scheduler             | 1.19.1  |\n",
      "| tcp://11.0.3.109:9000 | 1.19.1  |\n",
      "| tcp://11.0.3.112:9000 | 1.19.1  |\n",
      "| tcp://11.0.3.141:9000 | 1.19.1  |\n",
      "| tcp://11.0.3.151:9000 | 1.19.1  |\n",
      "| tcp://11.0.3.153:9000 | 1.19.1  |\n",
      "| tcp://11.0.3.162:9000 | 1.19.1  |\n",
      "| tcp://11.0.3.168:9000 | 1.19.1  |\n",
      "| tcp://11.0.3.16:9000  | 1.19.1  |\n",
      "| tcp://11.0.3.176:9000 | 1.19.1  |\n",
      "| tcp://11.0.3.18:9000  | 1.19.1  |\n",
      "| tcp://11.0.3.210:9000 | 1.19.1  |\n",
      "| tcp://11.0.3.212:9000 | 1.19.1  |\n",
      "| tcp://11.0.3.231:9000 | 1.19.1  |\n",
      "| tcp://11.0.3.237:9000 | 1.19.1  |\n",
      "| tcp://11.0.3.50:9000  | 1.19.1  |\n",
      "| tcp://11.0.3.61:9000  | 1.19.1  |\n",
      "| tcp://11.0.3.68:9000  | 1.19.1  |\n",
      "| tcp://11.0.3.76:9000  | 1.19.1  |\n",
      "| tcp://11.0.3.78:9000  | 1.19.1  |\n",
      "| tcp://11.0.3.8:9000   | 1.19.1  |\n",
      "+-----------------------+---------+\n",
      "\n",
      "toolz\n",
      "+-----------------------+---------+\n",
      "|                       | version |\n",
      "+-----------------------+---------+\n",
      "| client                | 0.11.2  |\n",
      "| scheduler             | 0.10.0  |\n",
      "| tcp://11.0.3.109:9000 | 0.10.0  |\n",
      "| tcp://11.0.3.112:9000 | 0.10.0  |\n",
      "| tcp://11.0.3.141:9000 | 0.10.0  |\n",
      "| tcp://11.0.3.151:9000 | 0.10.0  |\n",
      "| tcp://11.0.3.153:9000 | 0.10.0  |\n",
      "| tcp://11.0.3.162:9000 | 0.10.0  |\n",
      "| tcp://11.0.3.168:9000 | 0.10.0  |\n",
      "| tcp://11.0.3.16:9000  | 0.10.0  |\n",
      "| tcp://11.0.3.176:9000 | 0.10.0  |\n",
      "| tcp://11.0.3.18:9000  | 0.10.0  |\n",
      "| tcp://11.0.3.210:9000 | 0.10.0  |\n",
      "| tcp://11.0.3.212:9000 | 0.10.0  |\n",
      "| tcp://11.0.3.231:9000 | 0.10.0  |\n",
      "| tcp://11.0.3.237:9000 | 0.10.0  |\n",
      "| tcp://11.0.3.50:9000  | 0.10.0  |\n",
      "| tcp://11.0.3.61:9000  | 0.10.0  |\n",
      "| tcp://11.0.3.68:9000  | 0.10.0  |\n",
      "| tcp://11.0.3.76:9000  | 0.10.0  |\n",
      "| tcp://11.0.3.78:9000  | 0.10.0  |\n",
      "| tcp://11.0.3.8:9000   | 0.10.0  |\n",
      "+-----------------------+---------+\n",
      "\n",
      "tornado\n",
      "+-----------------------+---------+\n",
      "|                       | version |\n",
      "+-----------------------+---------+\n",
      "| client                | 6.1     |\n",
      "| scheduler             | 6.0.4   |\n",
      "| tcp://11.0.3.109:9000 | 6.0.4   |\n",
      "| tcp://11.0.3.112:9000 | 6.0.4   |\n",
      "| tcp://11.0.3.141:9000 | 6.0.4   |\n",
      "| tcp://11.0.3.151:9000 | 6.0.4   |\n",
      "| tcp://11.0.3.153:9000 | 6.0.4   |\n",
      "| tcp://11.0.3.162:9000 | 6.0.4   |\n",
      "| tcp://11.0.3.168:9000 | 6.0.4   |\n",
      "| tcp://11.0.3.16:9000  | 6.0.4   |\n",
      "| tcp://11.0.3.176:9000 | 6.0.4   |\n",
      "| tcp://11.0.3.18:9000  | 6.0.4   |\n",
      "| tcp://11.0.3.210:9000 | 6.0.4   |\n",
      "| tcp://11.0.3.212:9000 | 6.0.4   |\n",
      "| tcp://11.0.3.231:9000 | 6.0.4   |\n",
      "| tcp://11.0.3.237:9000 | 6.0.4   |\n",
      "| tcp://11.0.3.50:9000  | 6.0.4   |\n",
      "| tcp://11.0.3.61:9000  | 6.0.4   |\n",
      "| tcp://11.0.3.68:9000  | 6.0.4   |\n",
      "| tcp://11.0.3.76:9000  | 6.0.4   |\n",
      "| tcp://11.0.3.78:9000  | 6.0.4   |\n",
      "| tcp://11.0.3.8:9000   | 6.0.4   |\n",
      "+-----------------------+---------+\n",
      "  warnings.warn(version_module.VersionMismatchWarning(msg[0][\"warning\"]))\n"
     ]
    }
   ],
   "source": [
    "from dask.distributed import Client\n",
    "\n",
    "client = Client('Dask-Scheduler.local-dask:8786')\n"
   ]
  },
  {
   "cell_type": "markdown",
   "metadata": {},
   "source": [
    "## Scale out the number of dask workers as needed for your data science work"
   ]
  },
  {
   "cell_type": "markdown",
   "metadata": {},
   "source": [
    "### Enabling this when cluster is running on Fargate to scale out our cluster. "
   ]
  },
  {
   "cell_type": "code",
   "execution_count": 2,
   "metadata": {},
   "outputs": [
    {
     "name": "stdout",
     "output_type": "stream",
     "text": [
      "{\r\n",
      "    \"service\": {\r\n",
      "        \"serviceArn\": \"arn:aws:ecs:us-east-1:201692355327:service/Fargate-Dask-Cluster/Dask-Workers\",\r\n",
      "        \"serviceName\": \"Dask-Workers\",\r\n",
      "        \"clusterArn\": \"arn:aws:ecs:us-east-1:201692355327:cluster/Fargate-Dask-Cluster\",\r\n",
      "        \"loadBalancers\": [],\r\n",
      "        \"serviceRegistries\": [\r\n",
      "            {\r\n",
      "                \"registryArn\": \"arn:aws:servicediscovery:us-east-1:201692355327:service/srv-tdi6ld3cs7pipo3e\"\r\n",
      "            }\r\n",
      "        ],\r\n",
      "        \"status\": \"ACTIVE\",\r\n",
      "        \"desiredCount\": 20,\r\n",
      "        \"runningCount\": 20,\r\n",
      "        \"pendingCount\": 0,\r\n",
      "        \"launchType\": \"FARGATE\",\r\n",
      "        \"platformVersion\": \"LATEST\",\r\n",
      "        \"platformFamily\": \"Linux\",\r\n",
      "        \"taskDefinition\": \"arn:aws:ecs:us-east-1:201692355327:task-definition/cloudformation-dask-workers-v1:2\",\r\n",
      "        \"deploymentConfiguration\": {\r\n",
      "            \"deploymentCircuitBreaker\": {\r\n",
      "                \"enable\": false,\r\n",
      "                \"rollback\": false\r\n",
      "            },\r\n",
      "            \"maximumPercent\": 200,\r\n",
      "            \"minimumHealthyPercent\": 100\r\n",
      "        },\r\n",
      "        \"deployments\": [\r\n",
      "            {\r\n",
      "                \"id\": \"ecs-svc/6244720790277094240\",\r\n",
      "                \"status\": \"PRIMARY\",\r\n",
      "                \"taskDefinition\": \"arn:aws:ecs:us-east-1:201692355327:task-definition/cloudformation-dask-workers-v1:2\",\r\n",
      "                \"desiredCount\": 20,\r\n",
      "                \"pendingCount\": 0,\r\n",
      "                \"runningCount\": 20,\r\n",
      "                \"failedTasks\": 0,\r\n",
      "                \"createdAt\": 1651790105.819,\r\n",
      "                \"updatedAt\": 1651792679.308,\r\n",
      "                \"launchType\": \"FARGATE\",\r\n",
      "                \"platformVersion\": \"1.4.0\",\r\n",
      "                \"platformFamily\": \"Linux\",\r\n",
      "                \"networkConfiguration\": {\r\n",
      "                    \"awsvpcConfiguration\": {\r\n",
      "                        \"subnets\": [\r\n",
      "                            \"subnet-00af25945ec687723\"\r\n",
      "                        ],\r\n",
      "                        \"securityGroups\": [\r\n",
      "                            \"sg-0342a78cab8067c37\"\r\n",
      "                        ],\r\n",
      "                        \"assignPublicIp\": \"ENABLED\"\r\n",
      "                    }\r\n",
      "                },\r\n",
      "                \"rolloutState\": \"COMPLETED\",\r\n",
      "                \"rolloutStateReason\": \"ECS deployment ecs-svc/6244720790277094240 completed.\"\r\n",
      "            }\r\n",
      "        ],\r\n",
      "        \"roleArn\": \"arn:aws:iam::201692355327:role/aws-service-role/ecs.amazonaws.com/AWSServiceRoleForECS\",\r\n",
      "        \"events\": [\r\n",
      "            {\r\n",
      "                \"id\": \"bf61fdab-7a26-45a4-ada9-55a7bdd3f6d9\",\r\n",
      "                \"createdAt\": 1651792679.316,\r\n",
      "                \"message\": \"(service Dask-Workers) has reached a steady state.\"\r\n",
      "            },\r\n",
      "            {\r\n",
      "                \"id\": \"967c7074-d800-4502-8e4b-826965c5d176\",\r\n",
      "                \"createdAt\": 1651792481.767,\r\n",
      "                \"message\": \"(service Dask-Workers) has started 19 tasks: (task c10f444e773a44959111a100fb8f8d14) (task 78ad7158ade94efb902a2b3377f27978) (task bab2b47ed27c4d3a8688afcbd95417fb) (task cb0e453eb8714146807e261f116d6d3a) (task e65dfbd92a2f4999890a729125a413d8) (task 741b557964bd48e2bd04a96b874a8828) (task 726e2e9432ad4f758275cffd9aa9a6fb) (task 1d23a5de4fe247cba142116643a4ea52) (task da83b4dbfc664e80939ac4540cce28ce) (task db3e796fdd534af29b14965344f75f80) (task 7a447f856b784a1483c713e860b0ec05) (task b17edc8fc8fa4436ab88cb3c41b1a7cd) (task b721746eae2048a091a7147a5c881d04) (task 286788bdbf3f4bfb82da3a044e76c9bf) (task f00eb81e2e1b4088b04ec44623517eab) (task 9dde33693d67421da3290abc8cd31a30) (task fcee6c0b11cf432ab66f6ed85de213bd) (task ce058e3e27d7488b9c75043e6c7f7935) (task b5cf5108ac2d49ed84797ee934ba2446).\"\r\n",
      "            },\r\n",
      "            {\r\n",
      "                \"id\": \"0ecfdb13-fc8a-42c8-84b5-2dff3db3b2f3\",\r\n",
      "                \"createdAt\": 1651790263.124,\r\n",
      "                \"message\": \"(service Dask-Workers) has reached a steady state.\"\r\n",
      "            },\r\n",
      "            {\r\n",
      "                \"id\": \"4a289d2f-25c1-434f-99ca-ed5e0c06f97b\",\r\n",
      "                \"createdAt\": 1651790263.123,\r\n",
      "                \"message\": \"(service Dask-Workers) (deployment ecs-svc/6244720790277094240) deployment completed.\"\r\n",
      "            },\r\n",
      "            {\r\n",
      "                \"id\": \"58b05122-b8a5-49fb-a1fb-16a05ac48846\",\r\n",
      "                \"createdAt\": 1651790109.704,\r\n",
      "                \"message\": \"(service Dask-Workers) has started 1 tasks: (task fd4680ee53ad42369783ea4f80c62548).\"\r\n",
      "            }\r\n",
      "        ],\r\n",
      "        \"createdAt\": 1651790105.819,\r\n",
      "        \"placementConstraints\": [],\r\n",
      "        \"placementStrategy\": [],\r\n",
      "        \"networkConfiguration\": {\r\n",
      "            \"awsvpcConfiguration\": {\r\n",
      "                \"subnets\": [\r\n",
      "                    \"subnet-00af25945ec687723\"\r\n",
      "                ],\r\n",
      "                \"securityGroups\": [\r\n",
      "                    \"sg-0342a78cab8067c37\"\r\n",
      "                ],\r\n",
      "                \"assignPublicIp\": \"ENABLED\"\r\n",
      "            }\r\n",
      "        },\r\n",
      "        \"schedulingStrategy\": \"REPLICA\",\r\n",
      "        \"createdBy\": \"arn:aws:iam::201692355327:root\",\r\n",
      "        \"enableECSManagedTags\": false,\r\n",
      "        \"propagateTags\": \"NONE\",\r\n",
      "        \"enableExecuteCommand\": false\r\n",
      "    }\r\n",
      "}\r\n"
     ]
    }
   ],
   "source": [
    "!sudo aws ecs update-service --service Dask-Workers --desired-count 20 --cluster Fargate-Dask-Cluster"
   ]
  },
  {
   "cell_type": "markdown",
   "metadata": {},
   "source": [
    "## Restart the client after scale out operation\n",
    "\n",
    "We have to wait for ECS to scale out the cluster before running this step. "
   ]
  },
  {
   "cell_type": "code",
   "execution_count": 79,
   "metadata": {
    "scrolled": true
   },
   "outputs": [
    {
     "data": {
      "text/html": [
       "<table style=\"border: 2px solid white;\">\n",
       "<tr>\n",
       "<td style=\"vertical-align: top; border: 0px solid white\">\n",
       "<h3 style=\"text-align: left;\">Client</h3>\n",
       "<ul style=\"text-align: left; list-style: none; margin: 0; padding: 0;\">\n",
       "  <li><b>Scheduler: </b>tcp://Dask-Scheduler.local-dask:8786</li>\n",
       "  <li><b>Dashboard: </b><a href='http://Dask-Scheduler.local-dask:8787/status' target='_blank'>http://Dask-Scheduler.local-dask:8787/status</a>\n",
       "</ul>\n",
       "</td>\n",
       "<td style=\"vertical-align: top; border: 0px solid white\">\n",
       "<h3 style=\"text-align: left;\">Cluster</h3>\n",
       "<ul style=\"text-align: left; list-style:none; margin: 0; padding: 0;\">\n",
       "  <li><b>Workers: </b>20</li>\n",
       "  <li><b>Cores: </b>40</li>\n",
       "  <li><b>Memory: </b>81.92 GB</li>\n",
       "</ul>\n",
       "</td>\n",
       "</tr>\n",
       "</table>"
      ],
      "text/plain": [
       "<Client: 'tcp://11.0.3.207:8786' processes=0 threads=0, memory=0 B>"
      ]
     },
     "execution_count": 79,
     "metadata": {},
     "output_type": "execute_result"
    }
   ],
   "source": [
    "client.restart()"
   ]
  },
  {
   "cell_type": "markdown",
   "metadata": {},
   "source": [
    "# Exploratory Data Analysis(EDA)"
   ]
  },
  {
   "cell_type": "markdown",
   "metadata": {},
   "source": [
    "For data analysis, we will use Dask Dataframe and conduct various operations on the dataframe.\n",
    "\n",
    "A Dask DataFrame is a huge parallel DataFrame that is split along the index into numerous smaller Pandas DataFrames. These Pandas DataFrames can be stored on disk for out-of-memory processing on a single system or across a cluster of devices. Many Pandas DataFrame activities are triggered by a single Dask DataFrame activity."
   ]
  },
  {
   "cell_type": "code",
   "execution_count": 80,
   "metadata": {},
   "outputs": [],
   "source": [
    "import s3fs\n",
    "import dask.dataframe as dd"
   ]
  },
  {
   "cell_type": "markdown",
   "metadata": {},
   "source": [
    "## We will import the dataset from the bucket provided by AWS"
   ]
  },
  {
   "cell_type": "code",
   "execution_count": 81,
   "metadata": {},
   "outputs": [],
   "source": [
    "df = dd.read_csv(\n",
    "    's3://nyc-tlc/trip data/yellow_tripdata_2018-*.csv', storage_options={'anon': True}, parse_dates=['tpep_pickup_datetime','tpep_dropoff_datetime']\n",
    ")"
   ]
  },
  {
   "cell_type": "markdown",
   "metadata": {},
   "source": [
    "##  Calculate the trip duration in seconds \n",
    "The duration of the trips can be calculated by taking the difference of dropoff time and pickup time. We are calculating this duration in seconds"
   ]
  },
  {
   "cell_type": "code",
   "execution_count": 82,
   "metadata": {},
   "outputs": [],
   "source": [
    "df['trip_dur_secs'] = (df['tpep_dropoff_datetime'] - df['tpep_pickup_datetime']).dt.seconds"
   ]
  },
  {
   "cell_type": "code",
   "execution_count": 83,
   "metadata": {
    "scrolled": true
   },
   "outputs": [
    {
     "data": {
      "text/html": [
       "<div>\n",
       "<style scoped>\n",
       "    .dataframe tbody tr th:only-of-type {\n",
       "        vertical-align: middle;\n",
       "    }\n",
       "\n",
       "    .dataframe tbody tr th {\n",
       "        vertical-align: top;\n",
       "    }\n",
       "\n",
       "    .dataframe thead th {\n",
       "        text-align: right;\n",
       "    }\n",
       "</style>\n",
       "<table border=\"1\" class=\"dataframe\">\n",
       "  <thead>\n",
       "    <tr style=\"text-align: right;\">\n",
       "      <th></th>\n",
       "      <th>VendorID</th>\n",
       "      <th>tpep_pickup_datetime</th>\n",
       "      <th>tpep_dropoff_datetime</th>\n",
       "      <th>passenger_count</th>\n",
       "      <th>trip_distance</th>\n",
       "      <th>RatecodeID</th>\n",
       "      <th>store_and_fwd_flag</th>\n",
       "      <th>PULocationID</th>\n",
       "      <th>DOLocationID</th>\n",
       "      <th>payment_type</th>\n",
       "      <th>fare_amount</th>\n",
       "      <th>extra</th>\n",
       "      <th>mta_tax</th>\n",
       "      <th>tip_amount</th>\n",
       "      <th>tolls_amount</th>\n",
       "      <th>improvement_surcharge</th>\n",
       "      <th>total_amount</th>\n",
       "      <th>trip_dur_secs</th>\n",
       "    </tr>\n",
       "  </thead>\n",
       "  <tbody>\n",
       "    <tr>\n",
       "      <th>0</th>\n",
       "      <td>1</td>\n",
       "      <td>2018-01-01 00:21:05</td>\n",
       "      <td>2018-01-01 00:24:23</td>\n",
       "      <td>1</td>\n",
       "      <td>0.5</td>\n",
       "      <td>1</td>\n",
       "      <td>N</td>\n",
       "      <td>41</td>\n",
       "      <td>24</td>\n",
       "      <td>2</td>\n",
       "      <td>4.5</td>\n",
       "      <td>0.5</td>\n",
       "      <td>0.5</td>\n",
       "      <td>0.00</td>\n",
       "      <td>0.0</td>\n",
       "      <td>0.3</td>\n",
       "      <td>5.80</td>\n",
       "      <td>198</td>\n",
       "    </tr>\n",
       "    <tr>\n",
       "      <th>1</th>\n",
       "      <td>1</td>\n",
       "      <td>2018-01-01 00:44:55</td>\n",
       "      <td>2018-01-01 01:03:05</td>\n",
       "      <td>1</td>\n",
       "      <td>2.7</td>\n",
       "      <td>1</td>\n",
       "      <td>N</td>\n",
       "      <td>239</td>\n",
       "      <td>140</td>\n",
       "      <td>2</td>\n",
       "      <td>14.0</td>\n",
       "      <td>0.5</td>\n",
       "      <td>0.5</td>\n",
       "      <td>0.00</td>\n",
       "      <td>0.0</td>\n",
       "      <td>0.3</td>\n",
       "      <td>15.30</td>\n",
       "      <td>1090</td>\n",
       "    </tr>\n",
       "    <tr>\n",
       "      <th>2</th>\n",
       "      <td>1</td>\n",
       "      <td>2018-01-01 00:08:26</td>\n",
       "      <td>2018-01-01 00:14:21</td>\n",
       "      <td>2</td>\n",
       "      <td>0.8</td>\n",
       "      <td>1</td>\n",
       "      <td>N</td>\n",
       "      <td>262</td>\n",
       "      <td>141</td>\n",
       "      <td>1</td>\n",
       "      <td>6.0</td>\n",
       "      <td>0.5</td>\n",
       "      <td>0.5</td>\n",
       "      <td>1.00</td>\n",
       "      <td>0.0</td>\n",
       "      <td>0.3</td>\n",
       "      <td>8.30</td>\n",
       "      <td>355</td>\n",
       "    </tr>\n",
       "    <tr>\n",
       "      <th>3</th>\n",
       "      <td>1</td>\n",
       "      <td>2018-01-01 00:20:22</td>\n",
       "      <td>2018-01-01 00:52:51</td>\n",
       "      <td>1</td>\n",
       "      <td>10.2</td>\n",
       "      <td>1</td>\n",
       "      <td>N</td>\n",
       "      <td>140</td>\n",
       "      <td>257</td>\n",
       "      <td>2</td>\n",
       "      <td>33.5</td>\n",
       "      <td>0.5</td>\n",
       "      <td>0.5</td>\n",
       "      <td>0.00</td>\n",
       "      <td>0.0</td>\n",
       "      <td>0.3</td>\n",
       "      <td>34.80</td>\n",
       "      <td>1949</td>\n",
       "    </tr>\n",
       "    <tr>\n",
       "      <th>4</th>\n",
       "      <td>1</td>\n",
       "      <td>2018-01-01 00:09:18</td>\n",
       "      <td>2018-01-01 00:27:06</td>\n",
       "      <td>2</td>\n",
       "      <td>2.5</td>\n",
       "      <td>1</td>\n",
       "      <td>N</td>\n",
       "      <td>246</td>\n",
       "      <td>239</td>\n",
       "      <td>1</td>\n",
       "      <td>12.5</td>\n",
       "      <td>0.5</td>\n",
       "      <td>0.5</td>\n",
       "      <td>2.75</td>\n",
       "      <td>0.0</td>\n",
       "      <td>0.3</td>\n",
       "      <td>16.55</td>\n",
       "      <td>1068</td>\n",
       "    </tr>\n",
       "  </tbody>\n",
       "</table>\n",
       "</div>"
      ],
      "text/plain": [
       "   VendorID tpep_pickup_datetime tpep_dropoff_datetime  passenger_count  \\\n",
       "0         1  2018-01-01 00:21:05   2018-01-01 00:24:23                1   \n",
       "1         1  2018-01-01 00:44:55   2018-01-01 01:03:05                1   \n",
       "2         1  2018-01-01 00:08:26   2018-01-01 00:14:21                2   \n",
       "3         1  2018-01-01 00:20:22   2018-01-01 00:52:51                1   \n",
       "4         1  2018-01-01 00:09:18   2018-01-01 00:27:06                2   \n",
       "\n",
       "   trip_distance  RatecodeID store_and_fwd_flag  PULocationID  DOLocationID  \\\n",
       "0            0.5           1                  N            41            24   \n",
       "1            2.7           1                  N           239           140   \n",
       "2            0.8           1                  N           262           141   \n",
       "3           10.2           1                  N           140           257   \n",
       "4            2.5           1                  N           246           239   \n",
       "\n",
       "   payment_type  fare_amount  extra  mta_tax  tip_amount  tolls_amount  \\\n",
       "0             2          4.5    0.5      0.5        0.00           0.0   \n",
       "1             2         14.0    0.5      0.5        0.00           0.0   \n",
       "2             1          6.0    0.5      0.5        1.00           0.0   \n",
       "3             2         33.5    0.5      0.5        0.00           0.0   \n",
       "4             1         12.5    0.5      0.5        2.75           0.0   \n",
       "\n",
       "   improvement_surcharge  total_amount  trip_dur_secs  \n",
       "0                    0.3          5.80            198  \n",
       "1                    0.3         15.30           1090  \n",
       "2                    0.3          8.30            355  \n",
       "3                    0.3         34.80           1949  \n",
       "4                    0.3         16.55           1068  "
      ]
     },
     "execution_count": 83,
     "metadata": {},
     "output_type": "execute_result"
    }
   ],
   "source": [
    "df.head()"
   ]
  },
  {
   "cell_type": "markdown",
   "metadata": {},
   "source": [
    "## Calculate max trip duration across all trips"
   ]
  },
  {
   "cell_type": "code",
   "execution_count": 84,
   "metadata": {},
   "outputs": [
    {
     "name": "stdout",
     "output_type": "stream",
     "text": [
      "86399\n"
     ]
    }
   ],
   "source": [
    "max_trip_duration = df.trip_dur_secs.max().compute()\n",
    "print(max_trip_duration)"
   ]
  },
  {
   "cell_type": "markdown",
   "metadata": {},
   "source": [
    "## Calculate total mean for passengers across trips  by pickup date"
   ]
  },
  {
   "cell_type": "code",
   "execution_count": 85,
   "metadata": {},
   "outputs": [],
   "source": [
    "df['pickup_date'] = df['tpep_dropoff_datetime'].dt.date"
   ]
  },
  {
   "cell_type": "code",
   "execution_count": 86,
   "metadata": {
    "scrolled": true
   },
   "outputs": [
    {
     "data": {
      "text/html": [
       "<div>\n",
       "<style scoped>\n",
       "    .dataframe tbody tr th:only-of-type {\n",
       "        vertical-align: middle;\n",
       "    }\n",
       "\n",
       "    .dataframe tbody tr th {\n",
       "        vertical-align: top;\n",
       "    }\n",
       "\n",
       "    .dataframe thead th {\n",
       "        text-align: right;\n",
       "    }\n",
       "</style>\n",
       "<table border=\"1\" class=\"dataframe\">\n",
       "  <thead>\n",
       "    <tr style=\"text-align: right;\">\n",
       "      <th></th>\n",
       "      <th>VendorID</th>\n",
       "      <th>tpep_pickup_datetime</th>\n",
       "      <th>tpep_dropoff_datetime</th>\n",
       "      <th>passenger_count</th>\n",
       "      <th>trip_distance</th>\n",
       "      <th>RatecodeID</th>\n",
       "      <th>store_and_fwd_flag</th>\n",
       "      <th>PULocationID</th>\n",
       "      <th>DOLocationID</th>\n",
       "      <th>payment_type</th>\n",
       "      <th>fare_amount</th>\n",
       "      <th>extra</th>\n",
       "      <th>mta_tax</th>\n",
       "      <th>tip_amount</th>\n",
       "      <th>tolls_amount</th>\n",
       "      <th>improvement_surcharge</th>\n",
       "      <th>total_amount</th>\n",
       "      <th>trip_dur_secs</th>\n",
       "      <th>pickup_date</th>\n",
       "    </tr>\n",
       "  </thead>\n",
       "  <tbody>\n",
       "    <tr>\n",
       "      <th>0</th>\n",
       "      <td>1</td>\n",
       "      <td>2018-01-01 00:21:05</td>\n",
       "      <td>2018-01-01 00:24:23</td>\n",
       "      <td>1</td>\n",
       "      <td>0.5</td>\n",
       "      <td>1</td>\n",
       "      <td>N</td>\n",
       "      <td>41</td>\n",
       "      <td>24</td>\n",
       "      <td>2</td>\n",
       "      <td>4.5</td>\n",
       "      <td>0.5</td>\n",
       "      <td>0.5</td>\n",
       "      <td>0.00</td>\n",
       "      <td>0.0</td>\n",
       "      <td>0.3</td>\n",
       "      <td>5.80</td>\n",
       "      <td>198</td>\n",
       "      <td>2018-01-01</td>\n",
       "    </tr>\n",
       "    <tr>\n",
       "      <th>1</th>\n",
       "      <td>1</td>\n",
       "      <td>2018-01-01 00:44:55</td>\n",
       "      <td>2018-01-01 01:03:05</td>\n",
       "      <td>1</td>\n",
       "      <td>2.7</td>\n",
       "      <td>1</td>\n",
       "      <td>N</td>\n",
       "      <td>239</td>\n",
       "      <td>140</td>\n",
       "      <td>2</td>\n",
       "      <td>14.0</td>\n",
       "      <td>0.5</td>\n",
       "      <td>0.5</td>\n",
       "      <td>0.00</td>\n",
       "      <td>0.0</td>\n",
       "      <td>0.3</td>\n",
       "      <td>15.30</td>\n",
       "      <td>1090</td>\n",
       "      <td>2018-01-01</td>\n",
       "    </tr>\n",
       "    <tr>\n",
       "      <th>2</th>\n",
       "      <td>1</td>\n",
       "      <td>2018-01-01 00:08:26</td>\n",
       "      <td>2018-01-01 00:14:21</td>\n",
       "      <td>2</td>\n",
       "      <td>0.8</td>\n",
       "      <td>1</td>\n",
       "      <td>N</td>\n",
       "      <td>262</td>\n",
       "      <td>141</td>\n",
       "      <td>1</td>\n",
       "      <td>6.0</td>\n",
       "      <td>0.5</td>\n",
       "      <td>0.5</td>\n",
       "      <td>1.00</td>\n",
       "      <td>0.0</td>\n",
       "      <td>0.3</td>\n",
       "      <td>8.30</td>\n",
       "      <td>355</td>\n",
       "      <td>2018-01-01</td>\n",
       "    </tr>\n",
       "    <tr>\n",
       "      <th>3</th>\n",
       "      <td>1</td>\n",
       "      <td>2018-01-01 00:20:22</td>\n",
       "      <td>2018-01-01 00:52:51</td>\n",
       "      <td>1</td>\n",
       "      <td>10.2</td>\n",
       "      <td>1</td>\n",
       "      <td>N</td>\n",
       "      <td>140</td>\n",
       "      <td>257</td>\n",
       "      <td>2</td>\n",
       "      <td>33.5</td>\n",
       "      <td>0.5</td>\n",
       "      <td>0.5</td>\n",
       "      <td>0.00</td>\n",
       "      <td>0.0</td>\n",
       "      <td>0.3</td>\n",
       "      <td>34.80</td>\n",
       "      <td>1949</td>\n",
       "      <td>2018-01-01</td>\n",
       "    </tr>\n",
       "    <tr>\n",
       "      <th>4</th>\n",
       "      <td>1</td>\n",
       "      <td>2018-01-01 00:09:18</td>\n",
       "      <td>2018-01-01 00:27:06</td>\n",
       "      <td>2</td>\n",
       "      <td>2.5</td>\n",
       "      <td>1</td>\n",
       "      <td>N</td>\n",
       "      <td>246</td>\n",
       "      <td>239</td>\n",
       "      <td>1</td>\n",
       "      <td>12.5</td>\n",
       "      <td>0.5</td>\n",
       "      <td>0.5</td>\n",
       "      <td>2.75</td>\n",
       "      <td>0.0</td>\n",
       "      <td>0.3</td>\n",
       "      <td>16.55</td>\n",
       "      <td>1068</td>\n",
       "      <td>2018-01-01</td>\n",
       "    </tr>\n",
       "  </tbody>\n",
       "</table>\n",
       "</div>"
      ],
      "text/plain": [
       "   VendorID tpep_pickup_datetime tpep_dropoff_datetime  passenger_count  \\\n",
       "0         1  2018-01-01 00:21:05   2018-01-01 00:24:23                1   \n",
       "1         1  2018-01-01 00:44:55   2018-01-01 01:03:05                1   \n",
       "2         1  2018-01-01 00:08:26   2018-01-01 00:14:21                2   \n",
       "3         1  2018-01-01 00:20:22   2018-01-01 00:52:51                1   \n",
       "4         1  2018-01-01 00:09:18   2018-01-01 00:27:06                2   \n",
       "\n",
       "   trip_distance  RatecodeID store_and_fwd_flag  PULocationID  DOLocationID  \\\n",
       "0            0.5           1                  N            41            24   \n",
       "1            2.7           1                  N           239           140   \n",
       "2            0.8           1                  N           262           141   \n",
       "3           10.2           1                  N           140           257   \n",
       "4            2.5           1                  N           246           239   \n",
       "\n",
       "   payment_type  fare_amount  extra  mta_tax  tip_amount  tolls_amount  \\\n",
       "0             2          4.5    0.5      0.5        0.00           0.0   \n",
       "1             2         14.0    0.5      0.5        0.00           0.0   \n",
       "2             1          6.0    0.5      0.5        1.00           0.0   \n",
       "3             2         33.5    0.5      0.5        0.00           0.0   \n",
       "4             1         12.5    0.5      0.5        2.75           0.0   \n",
       "\n",
       "   improvement_surcharge  total_amount  trip_dur_secs pickup_date  \n",
       "0                    0.3          5.80            198  2018-01-01  \n",
       "1                    0.3         15.30           1090  2018-01-01  \n",
       "2                    0.3          8.30            355  2018-01-01  \n",
       "3                    0.3         34.80           1949  2018-01-01  \n",
       "4                    0.3         16.55           1068  2018-01-01  "
      ]
     },
     "execution_count": 86,
     "metadata": {},
     "output_type": "execute_result"
    }
   ],
   "source": [
    "df.head()"
   ]
  },
  {
   "cell_type": "code",
   "execution_count": 87,
   "metadata": {
    "scrolled": false
   },
   "outputs": [],
   "source": [
    "df_mean_psngr_pickup_date = df.groupby('pickup_date').passenger_count.mean().compute()"
   ]
  },
  {
   "cell_type": "code",
   "execution_count": 88,
   "metadata": {},
   "outputs": [
    {
     "data": {
      "text/plain": [
       "102804250"
      ]
     },
     "execution_count": 88,
     "metadata": {},
     "output_type": "execute_result"
    }
   ],
   "source": [
    "df.shape[0].compute()"
   ]
  },
  {
   "cell_type": "markdown",
   "metadata": {},
   "source": [
    "## Calculate total trips by pickup date"
   ]
  },
  {
   "cell_type": "code",
   "execution_count": 89,
   "metadata": {},
   "outputs": [],
   "source": [
    "df_trips_by_pickup_date = df.groupby('pickup_date').store_and_fwd_flag.count().compute()"
   ]
  },
  {
   "cell_type": "code",
   "execution_count": 90,
   "metadata": {},
   "outputs": [
    {
     "data": {
      "text/plain": [
       "455"
      ]
     },
     "execution_count": 90,
     "metadata": {},
     "output_type": "execute_result"
    }
   ],
   "source": [
    "len(df_trips_by_pickup_date)"
   ]
  },
  {
   "cell_type": "code",
   "execution_count": 91,
   "metadata": {},
   "outputs": [
    {
     "data": {
      "text/plain": [
       "pickup_date\n",
       "2002-12-31     10\n",
       "2003-01-01     19\n",
       "2008-12-31    278\n",
       "2009-01-01    516\n",
       "2017-01-02      1\n",
       "Name: store_and_fwd_flag, dtype: int64"
      ]
     },
     "execution_count": 91,
     "metadata": {},
     "output_type": "execute_result"
    }
   ],
   "source": [
    "df_trips_by_pickup_date.head()"
   ]
  },
  {
   "cell_type": "markdown",
   "metadata": {},
   "source": [
    "### We will now load and count number of rows"
   ]
  },
  {
   "cell_type": "code",
   "execution_count": 16,
   "metadata": {},
   "outputs": [
    {
     "data": {
      "text/plain": [
       "102804250"
      ]
     },
     "execution_count": 16,
     "metadata": {},
     "output_type": "execute_result"
    }
   ],
   "source": [
    "len(df)"
   ]
  },
  {
   "cell_type": "code",
   "execution_count": 17,
   "metadata": {},
   "outputs": [
    {
     "data": {
      "text/plain": [
       "VendorID                          int64\n",
       "tpep_pickup_datetime     datetime64[ns]\n",
       "tpep_dropoff_datetime    datetime64[ns]\n",
       "passenger_count                   int64\n",
       "trip_distance                   float64\n",
       "RatecodeID                        int64\n",
       "store_and_fwd_flag               object\n",
       "PULocationID                      int64\n",
       "DOLocationID                      int64\n",
       "payment_type                      int64\n",
       "fare_amount                     float64\n",
       "extra                           float64\n",
       "mta_tax                         float64\n",
       "tip_amount                      float64\n",
       "tolls_amount                    float64\n",
       "improvement_surcharge           float64\n",
       "total_amount                    float64\n",
       "trip_dur_secs                     int64\n",
       "pickup_date                      object\n",
       "dtype: object"
      ]
     },
     "execution_count": 17,
     "metadata": {},
     "output_type": "execute_result"
    }
   ],
   "source": [
    "df.dtypes"
   ]
  },
  {
   "cell_type": "markdown",
   "metadata": {},
   "source": [
    "## Persist  collections into memory\n",
    "Client.compute and Client.persist calls submit task graphs to the cluster, which will return Future objects pointing to specific output tasks. Persist returns a replica of the collection with each block or partition replaced by a single future, while compute returns a single future per input. To summarize, use persist to maintain the entire collection on the cluster and compute when you only need a single future result."
   ]
  },
  {
   "cell_type": "code",
   "execution_count": 92,
   "metadata": {},
   "outputs": [],
   "source": [
    "from dask.distributed import Client, progress"
   ]
  },
  {
   "cell_type": "code",
   "execution_count": 93,
   "metadata": {},
   "outputs": [
    {
     "name": "stdout",
     "output_type": "stream",
     "text": [
      "   VendorID tpep_pickup_datetime tpep_dropoff_datetime  passenger_count  \\\n",
      "0         1  2018-01-01 00:21:05   2018-01-01 00:24:23                1   \n",
      "1         1  2018-01-01 00:44:55   2018-01-01 01:03:05                1   \n",
      "2         1  2018-01-01 00:08:26   2018-01-01 00:14:21                2   \n",
      "3         1  2018-01-01 00:20:22   2018-01-01 00:52:51                1   \n",
      "4         1  2018-01-01 00:09:18   2018-01-01 00:27:06                2   \n",
      "\n",
      "   trip_distance  RatecodeID store_and_fwd_flag  PULocationID  DOLocationID  \\\n",
      "0            0.5           1                  N            41            24   \n",
      "1            2.7           1                  N           239           140   \n",
      "2            0.8           1                  N           262           141   \n",
      "3           10.2           1                  N           140           257   \n",
      "4            2.5           1                  N           246           239   \n",
      "\n",
      "   payment_type  fare_amount  extra  mta_tax  tip_amount  tolls_amount  \\\n",
      "0             2          4.5    0.5      0.5        0.00           0.0   \n",
      "1             2         14.0    0.5      0.5        0.00           0.0   \n",
      "2             1          6.0    0.5      0.5        1.00           0.0   \n",
      "3             2         33.5    0.5      0.5        0.00           0.0   \n",
      "4             1         12.5    0.5      0.5        2.75           0.0   \n",
      "\n",
      "   improvement_surcharge  total_amount  trip_dur_secs pickup_date  \n",
      "0                    0.3          5.80            198  2018-01-01  \n",
      "1                    0.3         15.30           1090  2018-01-01  \n",
      "2                    0.3          8.30            355  2018-01-01  \n",
      "3                    0.3         34.80           1949  2018-01-01  \n",
      "4                    0.3         16.55           1068  2018-01-01  \n"
     ]
    }
   ],
   "source": [
    "df_persisted = client.persist(df)\n",
    "print(df_persisted.head())"
   ]
  },
  {
   "cell_type": "markdown",
   "metadata": {},
   "source": [
    "## Compute the mean trip distance grouped by the number of passengers"
   ]
  },
  {
   "cell_type": "code",
   "execution_count": 94,
   "metadata": {
    "scrolled": true
   },
   "outputs": [
    {
     "name": "stdout",
     "output_type": "stream",
     "text": [
      "passenger_count\n",
      "0      2.794579\n",
      "1      2.887231\n",
      "2      3.086006\n",
      "3      3.050260\n",
      "4      3.106791\n",
      "5      3.018695\n",
      "6      2.989190\n",
      "7      3.015897\n",
      "8      5.193099\n",
      "9      5.404800\n",
      "192    0.950000\n",
      "96     0.830000\n",
      "Name: trip_distance, dtype: float64\n"
     ]
    }
   ],
   "source": [
    "grouped_df = df.groupby(df_persisted.passenger_count).trip_distance.mean().compute()\n",
    "print(grouped_df)"
   ]
  },
  {
   "cell_type": "markdown",
   "metadata": {},
   "source": [
    "## Compute Max trip distance"
   ]
  },
  {
   "cell_type": "code",
   "execution_count": 95,
   "metadata": {
    "scrolled": true
   },
   "outputs": [
    {
     "name": "stdout",
     "output_type": "stream",
     "text": [
      "189483.84\n"
     ]
    }
   ],
   "source": [
    "max_trip_dist = df_persisted.trip_distance.max().compute()\n",
    "print(max_trip_dist)"
   ]
  },
  {
   "cell_type": "markdown",
   "metadata": {},
   "source": [
    "## We will now count the total trip distance and count for each vendor"
   ]
  },
  {
   "cell_type": "code",
   "execution_count": 96,
   "metadata": {},
   "outputs": [
    {
     "data": {
      "text/html": [
       "<div>\n",
       "<style scoped>\n",
       "    .dataframe tbody tr th:only-of-type {\n",
       "        vertical-align: middle;\n",
       "    }\n",
       "\n",
       "    .dataframe tbody tr th {\n",
       "        vertical-align: top;\n",
       "    }\n",
       "\n",
       "    .dataframe thead th {\n",
       "        text-align: right;\n",
       "    }\n",
       "</style>\n",
       "<table border=\"1\" class=\"dataframe\">\n",
       "  <thead>\n",
       "    <tr style=\"text-align: right;\">\n",
       "      <th></th>\n",
       "      <th>VendorID</th>\n",
       "      <th>Trip Count</th>\n",
       "      <th>trip_distance</th>\n",
       "    </tr>\n",
       "  </thead>\n",
       "  <tbody>\n",
       "    <tr>\n",
       "      <th>0</th>\n",
       "      <td>1</td>\n",
       "      <td>42948686</td>\n",
       "      <td>120042180</td>\n",
       "    </tr>\n",
       "    <tr>\n",
       "      <th>1</th>\n",
       "      <td>2</td>\n",
       "      <td>59363813</td>\n",
       "      <td>180396669</td>\n",
       "    </tr>\n",
       "    <tr>\n",
       "      <th>2</th>\n",
       "      <td>4</td>\n",
       "      <td>491751</td>\n",
       "      <td>1329479</td>\n",
       "    </tr>\n",
       "  </tbody>\n",
       "</table>\n",
       "</div>"
      ],
      "text/plain": [
       "   VendorID  Trip Count  trip_distance\n",
       "0         1    42948686      120042180\n",
       "1         2    59363813      180396669\n",
       "2         4      491751        1329479"
      ]
     },
     "execution_count": 96,
     "metadata": {},
     "output_type": "execute_result"
    }
   ],
   "source": [
    "df.groupby('VendorID').agg({'passenger_count':'count', 'trip_distance': 'sum'}).astype(int).reset_index()\\\n",
    ".rename(columns={'passenger_count':'Trip Count'}).compute()"
   ]
  },
  {
   "cell_type": "markdown",
   "metadata": {},
   "source": [
    "## Count Missing Values for Each Feature"
   ]
  },
  {
   "cell_type": "code",
   "execution_count": 23,
   "metadata": {},
   "outputs": [
    {
     "data": {
      "text/plain": [
       "VendorID                 0\n",
       "tpep_pickup_datetime     0\n",
       "tpep_dropoff_datetime    0\n",
       "passenger_count          0\n",
       "trip_distance            0\n",
       "RatecodeID               0\n",
       "store_and_fwd_flag       0\n",
       "PULocationID             0\n",
       "DOLocationID             0\n",
       "payment_type             0\n",
       "fare_amount              0\n",
       "extra                    0\n",
       "mta_tax                  0\n",
       "tip_amount               0\n",
       "tolls_amount             0\n",
       "improvement_surcharge    0\n",
       "total_amount             0\n",
       "trip_dur_secs            0\n",
       "pickup_date              0\n",
       "dtype: int64"
      ]
     },
     "execution_count": 23,
     "metadata": {},
     "output_type": "execute_result"
    }
   ],
   "source": [
    "df.isna().sum().compute()"
   ]
  },
  {
   "cell_type": "markdown",
   "metadata": {},
   "source": [
    "As we can see here, the data has no missing values and it's cleaned data."
   ]
  },
  {
   "cell_type": "markdown",
   "metadata": {},
   "source": [
    "## Visualize your Exploratory Data Analysis\n",
    "\n",
    "Here we will demonstrate how to perform  Visual exploratory data analysis"
   ]
  },
  {
   "cell_type": "markdown",
   "metadata": {},
   "source": [
    "## Selecting top 10 rides based on fare amount"
   ]
  },
  {
   "cell_type": "code",
   "execution_count": 97,
   "metadata": {},
   "outputs": [],
   "source": [
    "most_paid_rides_dask = df[['PULocationID', 'fare_amount']].nlargest(10, \"fare_amount\")"
   ]
  },
  {
   "cell_type": "markdown",
   "metadata": {},
   "source": [
    "## Visualizing most paid rides through Barplot"
   ]
  },
  {
   "cell_type": "code",
   "execution_count": 98,
   "metadata": {},
   "outputs": [
    {
     "data": {
      "image/png": "[encoded data removed]",
      "text/plain": [
       "<Figure size 720x576 with 1 Axes>"
      ]
     },
     "metadata": {},
     "output_type": "display_data"
    }
   ],
   "source": [
    "import matplotlib.pyplot as plt\n",
    "most_paid_rides_dask.set_index('PULocationID',sorted=True).compute().plot(kind='barh',stacked=False, figsize=[10,8], legend=True)\n",
    "plt.title('Most Paid Rides')\n",
    "plt.xlabel('Fare Amount')\n",
    "plt.ylabel('PU LocationID')\n",
    "plt.show()\n"
   ]
  },
  {
   "cell_type": "markdown",
   "metadata": {},
   "source": [
    "## Visualizing trip distance through Barplot"
   ]
  },
  {
   "cell_type": "code",
   "execution_count": 26,
   "metadata": {},
   "outputs": [
    {
     "data": {
      "image/png": "[encoded data removed]",
      "text/plain": [
       "<Figure size 720x576 with 1 Axes>"
      ]
     },
     "metadata": {
      "needs_background": "light"
     },
     "output_type": "display_data"
    }
   ],
   "source": [
    "import matplotlib.pyplot as plt\n",
    "most_paid_rides_dask2 = df[['trip_distance', 'fare_amount']].nlargest(10, \"trip_distance\")\n",
    "most_paid_rides_dask2.set_index('trip_distance',sorted=True).compute().plot(kind='bar', colormap='PiYG', stacked=False, figsize=[10,8], legend=True)\n",
    "plt.title('Fares by Distance')\n",
    "plt.xlabel('Trip Distance')\n",
    "plt.ylabel('Fare Amount')\n",
    "plt.show()"
   ]
  },
  {
   "cell_type": "markdown",
   "metadata": {},
   "source": [
    "## Vizualising the dataframe using a heatmap"
   ]
  },
  {
   "cell_type": "code",
   "execution_count": 38,
   "metadata": {},
   "outputs": [],
   "source": [
    "corr = df.corr(method ='pearson')"
   ]
  },
  {
   "cell_type": "code",
   "execution_count": 32,
   "metadata": {},
   "outputs": [
    {
     "data": {
      "image/png": "[encoded data removed]",
      "text/plain": [
       "<Figure size 792x648 with 2 Axes>"
      ]
     },
     "metadata": {},
     "output_type": "display_data"
    }
   ],
   "source": [
    "#!conda install --yes seaborn\n",
    "import seaborn as sns\n",
    "import numpy as np\n",
    "def heatmap(corr):\n",
    "    sns.set(style=\"white\")\n",
    "\n",
    "    # Generate a mask for the upper triangle\n",
    "    mask = np.zeros_like(corr, dtype=bool)\n",
    "    mask[np.triu_indices_from(mask)] = True\n",
    "\n",
    "    # Set up the matplotlib figure\n",
    "    f, ax = plt.subplots(figsize=(11, 9))\n",
    "\n",
    "    # Generate a custom diverging colormap\n",
    "    cmap = sns.diverging_palette(220, 10, as_cmap=True)\n",
    "\n",
    "    # Draw the heatmap with the mask and correct aspect ratio\n",
    "    sns.heatmap(corr, mask=mask, cmap=cmap, vmax=.3, center=0, annot=True, fmt=\"3.2f\",\n",
    "                square=True, linewidths=.5, cbar_kws={\"shrink\": .5})\n",
    "heatmap(corr)"
   ]
  },
  {
   "cell_type": "code",
   "execution_count": 35,
   "metadata": {},
   "outputs": [
    {
     "name": "stdout",
     "output_type": "stream",
     "text": [
      "<class 'dask.dataframe.core.DataFrame'>\n",
      "Columns: 19 entries, VendorID to pickup_date\n",
      "dtypes: datetime64[ns](2), object(2), float64(8), int64(7)"
     ]
    }
   ],
   "source": [
    "df.info()"
   ]
  },
  {
   "cell_type": "markdown",
   "metadata": {},
   "source": [
    "# Regression modeling with  Scikit Learn and Distributed Dask\n",
    "\n",
    "Now we will model the data and then perform regression on the dataset.\n",
    "\n",
    "Many Scikit-Learn algorithms are written for parallel execution using Joblib, which natively provides thread-based and process-based parallelism. Joblib is what backs the n_jobs= parameter in normal use of Scikit-Learn. Dask can scale these Joblib-backed algorithms out to a cluster of machines by providing an alternative Joblib backend. \n"
   ]
  },
  {
   "cell_type": "markdown",
   "metadata": {},
   "source": [
    "### A modified version of the dataset will be used. For our models, we will use February 2018 as the sample data."
   ]
  },
  {
   "cell_type": "code",
   "execution_count": 99,
   "metadata": {},
   "outputs": [],
   "source": [
    "dfl = dd.read_csv(\n",
    "    's3://nyc-tlc/trip data/yellow_tripdata_2018-02.csv', storage_options={'anon': True},\n",
    "    parse_dates=['tpep_pickup_datetime', 'tpep_dropoff_datetime'],\n",
    ").sample(frac=0.8, replace=True)"
   ]
  },
  {
   "cell_type": "markdown",
   "metadata": {},
   "source": [
    "### Preprocess data\n",
    "1. Derive trip duration\n",
    "2. Fill NaN value with zeros \n",
    "3. One-hot encode categorical variables"
   ]
  },
  {
   "cell_type": "markdown",
   "metadata": {},
   "source": [
    "### 1. Deriving the trip duration"
   ]
  },
  {
   "cell_type": "code",
   "execution_count": 100,
   "metadata": {},
   "outputs": [],
   "source": [
    "dfl['trip_duration'] = dfl['tpep_dropoff_datetime'] - dfl['tpep_pickup_datetime']"
   ]
  },
  {
   "cell_type": "code",
   "execution_count": 101,
   "metadata": {},
   "outputs": [
    {
     "data": {
      "text/plain": [
       "Dask Series Structure:\n",
       "npartitions=12\n",
       "    float64\n",
       "        ...\n",
       "     ...   \n",
       "        ...\n",
       "        ...\n",
       "Name: trip_duration, dtype: float64\n",
       "Dask Name: getitem, 180 tasks"
      ]
     },
     "execution_count": 101,
     "metadata": {},
     "output_type": "execute_result"
    }
   ],
   "source": [
    "import numpy as np\n",
    "dfl['trip_duration'] = dfl['trip_duration']/np.timedelta64(1,'D')\n",
    "dfl['trip_duration'] = dfl['trip_duration'] * 24\n",
    "dfl['trip_duration']"
   ]
  },
  {
   "cell_type": "code",
   "execution_count": 102,
   "metadata": {},
   "outputs": [
    {
     "data": {
      "text/plain": [
       "6793661"
      ]
     },
     "execution_count": 102,
     "metadata": {},
     "output_type": "execute_result"
    }
   ],
   "source": [
    "len(dfl)"
   ]
  },
  {
   "cell_type": "code",
   "execution_count": 103,
   "metadata": {},
   "outputs": [
    {
     "data": {
      "text/html": [
       "<div>\n",
       "<style scoped>\n",
       "    .dataframe tbody tr th:only-of-type {\n",
       "        vertical-align: middle;\n",
       "    }\n",
       "\n",
       "    .dataframe tbody tr th {\n",
       "        vertical-align: top;\n",
       "    }\n",
       "\n",
       "    .dataframe thead th {\n",
       "        text-align: right;\n",
       "    }\n",
       "</style>\n",
       "<table border=\"1\" class=\"dataframe\">\n",
       "  <thead>\n",
       "    <tr style=\"text-align: right;\">\n",
       "      <th></th>\n",
       "      <th>VendorID</th>\n",
       "      <th>tpep_pickup_datetime</th>\n",
       "      <th>tpep_dropoff_datetime</th>\n",
       "      <th>passenger_count</th>\n",
       "      <th>trip_distance</th>\n",
       "      <th>RatecodeID</th>\n",
       "      <th>store_and_fwd_flag</th>\n",
       "      <th>PULocationID</th>\n",
       "      <th>DOLocationID</th>\n",
       "      <th>payment_type</th>\n",
       "      <th>fare_amount</th>\n",
       "      <th>extra</th>\n",
       "      <th>mta_tax</th>\n",
       "      <th>tip_amount</th>\n",
       "      <th>tolls_amount</th>\n",
       "      <th>improvement_surcharge</th>\n",
       "      <th>total_amount</th>\n",
       "      <th>trip_duration</th>\n",
       "    </tr>\n",
       "  </thead>\n",
       "  <tbody>\n",
       "    <tr>\n",
       "      <th>547472</th>\n",
       "      <td>1</td>\n",
       "      <td>2018-02-02 18:21:28</td>\n",
       "      <td>2018-02-02 18:28:58</td>\n",
       "      <td>1</td>\n",
       "      <td>0.80</td>\n",
       "      <td>1</td>\n",
       "      <td>N</td>\n",
       "      <td>234</td>\n",
       "      <td>90</td>\n",
       "      <td>1</td>\n",
       "      <td>6.5</td>\n",
       "      <td>1.0</td>\n",
       "      <td>0.5</td>\n",
       "      <td>1.65</td>\n",
       "      <td>0.0</td>\n",
       "      <td>0.3</td>\n",
       "      <td>9.95</td>\n",
       "      <td>0.125000</td>\n",
       "    </tr>\n",
       "    <tr>\n",
       "      <th>376786</th>\n",
       "      <td>2</td>\n",
       "      <td>2018-02-02 08:02:45</td>\n",
       "      <td>2018-02-02 08:09:26</td>\n",
       "      <td>5</td>\n",
       "      <td>0.35</td>\n",
       "      <td>1</td>\n",
       "      <td>N</td>\n",
       "      <td>100</td>\n",
       "      <td>186</td>\n",
       "      <td>2</td>\n",
       "      <td>5.5</td>\n",
       "      <td>0.0</td>\n",
       "      <td>0.5</td>\n",
       "      <td>0.00</td>\n",
       "      <td>0.0</td>\n",
       "      <td>0.3</td>\n",
       "      <td>6.30</td>\n",
       "      <td>0.111389</td>\n",
       "    </tr>\n",
       "    <tr>\n",
       "      <th>493944</th>\n",
       "      <td>1</td>\n",
       "      <td>2018-02-02 15:15:07</td>\n",
       "      <td>2018-02-02 15:28:41</td>\n",
       "      <td>1</td>\n",
       "      <td>1.90</td>\n",
       "      <td>1</td>\n",
       "      <td>N</td>\n",
       "      <td>230</td>\n",
       "      <td>164</td>\n",
       "      <td>2</td>\n",
       "      <td>10.5</td>\n",
       "      <td>0.0</td>\n",
       "      <td>0.5</td>\n",
       "      <td>0.00</td>\n",
       "      <td>0.0</td>\n",
       "      <td>0.3</td>\n",
       "      <td>11.30</td>\n",
       "      <td>0.226111</td>\n",
       "    </tr>\n",
       "    <tr>\n",
       "      <th>388019</th>\n",
       "      <td>2</td>\n",
       "      <td>2018-02-02 08:04:06</td>\n",
       "      <td>2018-02-02 08:12:11</td>\n",
       "      <td>1</td>\n",
       "      <td>0.81</td>\n",
       "      <td>1</td>\n",
       "      <td>N</td>\n",
       "      <td>186</td>\n",
       "      <td>107</td>\n",
       "      <td>1</td>\n",
       "      <td>6.5</td>\n",
       "      <td>0.0</td>\n",
       "      <td>0.5</td>\n",
       "      <td>1.00</td>\n",
       "      <td>0.0</td>\n",
       "      <td>0.3</td>\n",
       "      <td>8.30</td>\n",
       "      <td>0.134722</td>\n",
       "    </tr>\n",
       "    <tr>\n",
       "      <th>519413</th>\n",
       "      <td>2</td>\n",
       "      <td>2018-02-02 16:23:14</td>\n",
       "      <td>2018-02-02 17:02:59</td>\n",
       "      <td>1</td>\n",
       "      <td>5.03</td>\n",
       "      <td>1</td>\n",
       "      <td>N</td>\n",
       "      <td>170</td>\n",
       "      <td>41</td>\n",
       "      <td>1</td>\n",
       "      <td>26.5</td>\n",
       "      <td>1.0</td>\n",
       "      <td>0.5</td>\n",
       "      <td>8.49</td>\n",
       "      <td>0.0</td>\n",
       "      <td>0.3</td>\n",
       "      <td>36.79</td>\n",
       "      <td>0.662500</td>\n",
       "    </tr>\n",
       "  </tbody>\n",
       "</table>\n",
       "</div>"
      ],
      "text/plain": [
       "        VendorID tpep_pickup_datetime tpep_dropoff_datetime  passenger_count  \\\n",
       "547472         1  2018-02-02 18:21:28   2018-02-02 18:28:58                1   \n",
       "376786         2  2018-02-02 08:02:45   2018-02-02 08:09:26                5   \n",
       "493944         1  2018-02-02 15:15:07   2018-02-02 15:28:41                1   \n",
       "388019         2  2018-02-02 08:04:06   2018-02-02 08:12:11                1   \n",
       "519413         2  2018-02-02 16:23:14   2018-02-02 17:02:59                1   \n",
       "\n",
       "        trip_distance  RatecodeID store_and_fwd_flag  PULocationID  \\\n",
       "547472           0.80           1                  N           234   \n",
       "376786           0.35           1                  N           100   \n",
       "493944           1.90           1                  N           230   \n",
       "388019           0.81           1                  N           186   \n",
       "519413           5.03           1                  N           170   \n",
       "\n",
       "        DOLocationID  payment_type  fare_amount  extra  mta_tax  tip_amount  \\\n",
       "547472            90             1          6.5    1.0      0.5        1.65   \n",
       "376786           186             2          5.5    0.0      0.5        0.00   \n",
       "493944           164             2         10.5    0.0      0.5        0.00   \n",
       "388019           107             1          6.5    0.0      0.5        1.00   \n",
       "519413            41             1         26.5    1.0      0.5        8.49   \n",
       "\n",
       "        tolls_amount  improvement_surcharge  total_amount  trip_duration  \n",
       "547472           0.0                    0.3          9.95       0.125000  \n",
       "376786           0.0                    0.3          6.30       0.111389  \n",
       "493944           0.0                    0.3         11.30       0.226111  \n",
       "388019           0.0                    0.3          8.30       0.134722  \n",
       "519413           0.0                    0.3         36.79       0.662500  "
      ]
     },
     "execution_count": 103,
     "metadata": {},
     "output_type": "execute_result"
    }
   ],
   "source": [
    "dfl.head()"
   ]
  },
  {
   "cell_type": "markdown",
   "metadata": {},
   "source": [
    "### 2. Filling NaN value with zeros"
   ]
  },
  {
   "cell_type": "code",
   "execution_count": 104,
   "metadata": {},
   "outputs": [],
   "source": [
    "dfl = dfl.fillna(value=0)"
   ]
  },
  {
   "cell_type": "code",
   "execution_count": 105,
   "metadata": {},
   "outputs": [],
   "source": [
    "dfl = dd.get_dummies(dfl.categorize()).compute()"
   ]
  },
  {
   "cell_type": "code",
   "execution_count": 106,
   "metadata": {},
   "outputs": [
    {
     "data": {
      "text/html": [
       "<div>\n",
       "<style scoped>\n",
       "    .dataframe tbody tr th:only-of-type {\n",
       "        vertical-align: middle;\n",
       "    }\n",
       "\n",
       "    .dataframe tbody tr th {\n",
       "        vertical-align: top;\n",
       "    }\n",
       "\n",
       "    .dataframe thead th {\n",
       "        text-align: right;\n",
       "    }\n",
       "</style>\n",
       "<table border=\"1\" class=\"dataframe\">\n",
       "  <thead>\n",
       "    <tr style=\"text-align: right;\">\n",
       "      <th></th>\n",
       "      <th>VendorID</th>\n",
       "      <th>tpep_pickup_datetime</th>\n",
       "      <th>tpep_dropoff_datetime</th>\n",
       "      <th>passenger_count</th>\n",
       "      <th>trip_distance</th>\n",
       "      <th>RatecodeID</th>\n",
       "      <th>PULocationID</th>\n",
       "      <th>DOLocationID</th>\n",
       "      <th>payment_type</th>\n",
       "      <th>fare_amount</th>\n",
       "      <th>extra</th>\n",
       "      <th>mta_tax</th>\n",
       "      <th>tip_amount</th>\n",
       "      <th>tolls_amount</th>\n",
       "      <th>improvement_surcharge</th>\n",
       "      <th>total_amount</th>\n",
       "      <th>trip_duration</th>\n",
       "      <th>store_and_fwd_flag_N</th>\n",
       "      <th>store_and_fwd_flag_Y</th>\n",
       "    </tr>\n",
       "  </thead>\n",
       "  <tbody>\n",
       "    <tr>\n",
       "      <th>547472</th>\n",
       "      <td>1</td>\n",
       "      <td>2018-02-02 18:21:28</td>\n",
       "      <td>2018-02-02 18:28:58</td>\n",
       "      <td>1</td>\n",
       "      <td>0.80</td>\n",
       "      <td>1</td>\n",
       "      <td>234</td>\n",
       "      <td>90</td>\n",
       "      <td>1</td>\n",
       "      <td>6.5</td>\n",
       "      <td>1.0</td>\n",
       "      <td>0.5</td>\n",
       "      <td>1.65</td>\n",
       "      <td>0.0</td>\n",
       "      <td>0.3</td>\n",
       "      <td>9.95</td>\n",
       "      <td>0.125000</td>\n",
       "      <td>1</td>\n",
       "      <td>0</td>\n",
       "    </tr>\n",
       "    <tr>\n",
       "      <th>376786</th>\n",
       "      <td>2</td>\n",
       "      <td>2018-02-02 08:02:45</td>\n",
       "      <td>2018-02-02 08:09:26</td>\n",
       "      <td>5</td>\n",
       "      <td>0.35</td>\n",
       "      <td>1</td>\n",
       "      <td>100</td>\n",
       "      <td>186</td>\n",
       "      <td>2</td>\n",
       "      <td>5.5</td>\n",
       "      <td>0.0</td>\n",
       "      <td>0.5</td>\n",
       "      <td>0.00</td>\n",
       "      <td>0.0</td>\n",
       "      <td>0.3</td>\n",
       "      <td>6.30</td>\n",
       "      <td>0.111389</td>\n",
       "      <td>1</td>\n",
       "      <td>0</td>\n",
       "    </tr>\n",
       "    <tr>\n",
       "      <th>493944</th>\n",
       "      <td>1</td>\n",
       "      <td>2018-02-02 15:15:07</td>\n",
       "      <td>2018-02-02 15:28:41</td>\n",
       "      <td>1</td>\n",
       "      <td>1.90</td>\n",
       "      <td>1</td>\n",
       "      <td>230</td>\n",
       "      <td>164</td>\n",
       "      <td>2</td>\n",
       "      <td>10.5</td>\n",
       "      <td>0.0</td>\n",
       "      <td>0.5</td>\n",
       "      <td>0.00</td>\n",
       "      <td>0.0</td>\n",
       "      <td>0.3</td>\n",
       "      <td>11.30</td>\n",
       "      <td>0.226111</td>\n",
       "      <td>1</td>\n",
       "      <td>0</td>\n",
       "    </tr>\n",
       "    <tr>\n",
       "      <th>388019</th>\n",
       "      <td>2</td>\n",
       "      <td>2018-02-02 08:04:06</td>\n",
       "      <td>2018-02-02 08:12:11</td>\n",
       "      <td>1</td>\n",
       "      <td>0.81</td>\n",
       "      <td>1</td>\n",
       "      <td>186</td>\n",
       "      <td>107</td>\n",
       "      <td>1</td>\n",
       "      <td>6.5</td>\n",
       "      <td>0.0</td>\n",
       "      <td>0.5</td>\n",
       "      <td>1.00</td>\n",
       "      <td>0.0</td>\n",
       "      <td>0.3</td>\n",
       "      <td>8.30</td>\n",
       "      <td>0.134722</td>\n",
       "      <td>1</td>\n",
       "      <td>0</td>\n",
       "    </tr>\n",
       "    <tr>\n",
       "      <th>519413</th>\n",
       "      <td>2</td>\n",
       "      <td>2018-02-02 16:23:14</td>\n",
       "      <td>2018-02-02 17:02:59</td>\n",
       "      <td>1</td>\n",
       "      <td>5.03</td>\n",
       "      <td>1</td>\n",
       "      <td>170</td>\n",
       "      <td>41</td>\n",
       "      <td>1</td>\n",
       "      <td>26.5</td>\n",
       "      <td>1.0</td>\n",
       "      <td>0.5</td>\n",
       "      <td>8.49</td>\n",
       "      <td>0.0</td>\n",
       "      <td>0.3</td>\n",
       "      <td>36.79</td>\n",
       "      <td>0.662500</td>\n",
       "      <td>1</td>\n",
       "      <td>0</td>\n",
       "    </tr>\n",
       "  </tbody>\n",
       "</table>\n",
       "</div>"
      ],
      "text/plain": [
       "        VendorID tpep_pickup_datetime tpep_dropoff_datetime  passenger_count  \\\n",
       "547472         1  2018-02-02 18:21:28   2018-02-02 18:28:58                1   \n",
       "376786         2  2018-02-02 08:02:45   2018-02-02 08:09:26                5   \n",
       "493944         1  2018-02-02 15:15:07   2018-02-02 15:28:41                1   \n",
       "388019         2  2018-02-02 08:04:06   2018-02-02 08:12:11                1   \n",
       "519413         2  2018-02-02 16:23:14   2018-02-02 17:02:59                1   \n",
       "\n",
       "        trip_distance  RatecodeID  PULocationID  DOLocationID  payment_type  \\\n",
       "547472           0.80           1           234            90             1   \n",
       "376786           0.35           1           100           186             2   \n",
       "493944           1.90           1           230           164             2   \n",
       "388019           0.81           1           186           107             1   \n",
       "519413           5.03           1           170            41             1   \n",
       "\n",
       "        fare_amount  extra  mta_tax  tip_amount  tolls_amount  \\\n",
       "547472          6.5    1.0      0.5        1.65           0.0   \n",
       "376786          5.5    0.0      0.5        0.00           0.0   \n",
       "493944         10.5    0.0      0.5        0.00           0.0   \n",
       "388019          6.5    0.0      0.5        1.00           0.0   \n",
       "519413         26.5    1.0      0.5        8.49           0.0   \n",
       "\n",
       "        improvement_surcharge  total_amount  trip_duration  \\\n",
       "547472                    0.3          9.95       0.125000   \n",
       "376786                    0.3          6.30       0.111389   \n",
       "493944                    0.3         11.30       0.226111   \n",
       "388019                    0.3          8.30       0.134722   \n",
       "519413                    0.3         36.79       0.662500   \n",
       "\n",
       "        store_and_fwd_flag_N  store_and_fwd_flag_Y  \n",
       "547472                     1                     0  \n",
       "376786                     1                     0  \n",
       "493944                     1                     0  \n",
       "388019                     1                     0  \n",
       "519413                     1                     0  "
      ]
     },
     "execution_count": 106,
     "metadata": {},
     "output_type": "execute_result"
    }
   ],
   "source": [
    "dfl.head()"
   ]
  },
  {
   "cell_type": "code",
   "execution_count": 107,
   "metadata": {},
   "outputs": [],
   "source": [
    "x = dfl[['VendorID','RatecodeID','PULocationID','DOLocationID','passenger_count','trip_distance','fare_amount','total_amount']]"
   ]
  },
  {
   "cell_type": "code",
   "execution_count": 108,
   "metadata": {},
   "outputs": [],
   "source": [
    "y = dfl['trip_duration']"
   ]
  },
  {
   "cell_type": "markdown",
   "metadata": {},
   "source": [
    "### Splitting the data for training and testing"
   ]
  },
  {
   "cell_type": "code",
   "execution_count": 109,
   "metadata": {},
   "outputs": [],
   "source": [
    "from dask_ml.model_selection import train_test_split"
   ]
  },
  {
   "cell_type": "code",
   "execution_count": 110,
   "metadata": {},
   "outputs": [],
   "source": [
    "X_train, X_test, y_train, y_test = train_test_split(x, y, random_state=1)"
   ]
  },
  {
   "cell_type": "code",
   "execution_count": 111,
   "metadata": {},
   "outputs": [
    {
     "data": {
      "text/plain": [
       "(6114294, 679367, 6114294, 679367)"
      ]
     },
     "execution_count": 111,
     "metadata": {},
     "output_type": "execute_result"
    }
   ],
   "source": [
    "len(X_train), len(X_test), len(y_train), len(y_test)"
   ]
  },
  {
   "cell_type": "code",
   "execution_count": 112,
   "metadata": {},
   "outputs": [],
   "source": [
    "training_x = X_train.values\n",
    "training_y = y_train.values"
   ]
  },
  {
   "cell_type": "code",
   "execution_count": 113,
   "metadata": {},
   "outputs": [],
   "source": [
    "testing_x = X_test.values\n",
    "testing_y = y_test.values"
   ]
  },
  {
   "cell_type": "markdown",
   "metadata": {},
   "source": [
    "### We will be using Root Mean Squared error as the metric to measure and compare the performance of our models against each other."
   ]
  },
  {
   "cell_type": "code",
   "execution_count": 114,
   "metadata": {},
   "outputs": [],
   "source": [
    "import numpy as np\n",
    "from sklearn.metrics import mean_squared_error"
   ]
  },
  {
   "cell_type": "code",
   "execution_count": 115,
   "metadata": {},
   "outputs": [],
   "source": [
    "def rmse(preds, actuals):\n",
    "    error = mean_squared_error(actuals, preds)\n",
    "    rmse = np.sqrt(error)\n",
    "    print(rmse)"
   ]
  },
  {
   "cell_type": "markdown",
   "metadata": {},
   "source": [
    "### Running Linear Regression model training on distributed dask cluster"
   ]
  },
  {
   "cell_type": "code",
   "execution_count": 66,
   "metadata": {},
   "outputs": [],
   "source": [
    "import joblib\n",
    "from dask_ml.linear_model import LinearRegression\n",
    "\n",
    "with joblib.parallel_backend('dask'):\n",
    "    lr = LinearRegression(random_state=1, fit_intercept=True)\n",
    "    lr.fit(training_x,training_y)"
   ]
  },
  {
   "cell_type": "markdown",
   "metadata": {},
   "source": [
    "### Run prediction on the trained model"
   ]
  },
  {
   "cell_type": "code",
   "execution_count": 67,
   "metadata": {},
   "outputs": [
    {
     "data": {
      "text/plain": [
       "array([0.23587751, 0.11303568, 0.25717115, ..., 0.26830248, 0.21250239,\n",
       "       0.09502799])"
      ]
     },
     "execution_count": 67,
     "metadata": {},
     "output_type": "execute_result"
    }
   ],
   "source": [
    "preds = lr.predict(testing_x)\n",
    "preds"
   ]
  },
  {
   "cell_type": "code",
   "execution_count": 69,
   "metadata": {},
   "outputs": [
    {
     "name": "stdout",
     "output_type": "stream",
     "text": [
      "0.9954480590790822\n"
     ]
    }
   ],
   "source": [
    "rmse(preds,testing_y)"
   ]
  },
  {
   "cell_type": "markdown",
   "metadata": {},
   "source": [
    "### Running Logistic Regression Model on distributed dask cluster"
   ]
  },
  {
   "cell_type": "code",
   "execution_count": 71,
   "metadata": {},
   "outputs": [],
   "source": [
    "from dask_ml.linear_model import LogisticRegression\n",
    "\n",
    "with joblib.parallel_backend('dask'):\n",
    "    lr = LogisticRegression(random_state=1, fit_intercept=True)\n",
    "    lr.fit(training_x,training_y)"
   ]
  },
  {
   "cell_type": "markdown",
   "metadata": {},
   "source": [
    "### Running prediction on the trained model"
   ]
  },
  {
   "cell_type": "code",
   "execution_count": 72,
   "metadata": {},
   "outputs": [
    {
     "name": "stdout",
     "output_type": "stream",
     "text": [
      "1.0263909903089392\n"
     ]
    }
   ],
   "source": [
    "preds = lr.predict(testing_x)\n",
    "preds\n",
    "\n",
    "rmse(preds,testing_y)"
   ]
  },
  {
   "cell_type": "markdown",
   "metadata": {},
   "source": [
    "### Running the Poisson Regression model on the distributed dask clusted"
   ]
  },
  {
   "cell_type": "code",
   "execution_count": 74,
   "metadata": {},
   "outputs": [],
   "source": [
    "from dask_ml.linear_model import PoissonRegression\n",
    "\n",
    "with joblib.parallel_backend('dask'):\n",
    "    pr = PoissonRegression(random_state=1, fit_intercept=True)\n",
    "    pr.fit(training_x,training_y)"
   ]
  },
  {
   "cell_type": "markdown",
   "metadata": {},
   "source": [
    "### Running the prediction on the trained model"
   ]
  },
  {
   "cell_type": "code",
   "execution_count": 75,
   "metadata": {},
   "outputs": [
    {
     "name": "stdout",
     "output_type": "stream",
     "text": [
      "7.633339356307306e+95\n"
     ]
    }
   ],
   "source": [
    "preds = pr.predict(testing_x)\n",
    "preds\n",
    "\n",
    "rmse(preds,testing_y)"
   ]
  },
  {
   "cell_type": "markdown",
   "metadata": {},
   "source": [
    "# Conclusion"
   ]
  },
  {
   "cell_type": "markdown",
   "metadata": {},
   "source": [
    "We took a reduced version of the total dataset to fit the model better as the original dataset has 102,804,250 rows of data.\n",
    "The reduced version has a reduced rows of 6,793,661.\n",
    "\n",
    "As we can see from the models above, the Linear Regression model has the lowest RMSE value meaning that it has the lowest error. The other models have a really high RMSE value which means that they have a high error value.\n",
    "\n",
    "A low error on Linear Regression means that Linear Regression is a better model out of all the models and it fits better on our data.\n"
   ]
  },
  {
   "cell_type": "markdown",
   "metadata": {},
   "source": [
    "# Future work and comments\n",
    "\n",
    "The data that we used was pretty clean and most of the data is well captured. There were a few NaNs which we replaced with 0s.\n",
    "\n",
    "The feature variable for our models was the trip duration. We had to manually calculate the data for that column by calculating the difference between the dopoff time and the pickup time. \n",
    "\n",
    "For our evaluation, we fit the model on our training data and predicted values on our testing data. We then measured the RMSE on the testing feature data. \n",
    "\n",
    "We did this for a total of three models, namely, Linear Regression, Logistic Regression and Poisson Regression. The best value and performance out of all these seemed to be of the Linear Regression Model.\n",
    "\n",
    "We did face a few problems while running the models on our models but we didn't clean the data properly. We then took our time to clean the data and changed all the values.\n",
    "\n",
    "For our future work, we plan on looking into more models and try to reduce the RMSE value even further to find a model that will fit the data better."
   ]
  },
  {
   "cell_type": "code",
   "execution_count": null,
   "metadata": {},
   "outputs": [],
   "source": []
  },
  {
   "cell_type": "markdown",
   "metadata": {},
   "source": [
    "# Instructions for running the notebook\n",
    "\n",
    "## Setup conda packages dependencies\n",
    "For running distributed dask on SageMaker laptop and fargate cluster, we need more conda packages and newer versions of a few existing packages. Integration of scikit-joblib learn's with dask for distributed dask cluster level processing requires version 0.23. Dask and popular machine learning libraries like Scikit-Learn, XGBoost, and others are used in dask-ml to deliver scalable machine learning in Python. Cloudpickle 1.6.0 is necessary to serialize Python constructs that are not supported by the Python standard library's default pickle module.\n",
    "\n",
    "\n",
    "### Follow the steps below to install conda_daskpy36 kernel\n",
    "\n",
    "1. Open Jupyter > New > Terminal\n",
    "2. Open text editor e.g. vi and enter the script below\n",
    "3. Save the file as daskpy36.sh\n",
    "4. Give run permissions: chmod +x daskpy36.sh\n",
    "5. Run the script: ./daskpy36.sh \n",
    "\n",
    "=======script begin===========\n",
    "\n",
    "#!/bin/bash\n",
    "\n",
    "set -e\n",
    "\n",
    "sudo -u ec2-user -i << EOF\n",
    "\n",
    "echo \". /home/ec2-user/anaconda3/etc/profile.d/conda.sh\" >> ~/.bashrc\n",
    "\n",
    "conda create --name daskpy36 python=3.6.10 dask=2.14 distributed=2.14 s3fs=0.4.0 dask-glm=0.2.0 cytoolz=0.8.2 pandas=1.0.1 scikit-learn=0.23.2  matplotlib dask-ml=1.6.0 ipykernel -y\n",
    "\n",
    "source /home/ec2-user/anaconda3/bin/activate daskpy36\n",
    "\n",
    "python -m ipykernel install --user --name daskpy36 --display-name conda_daskpy36\n",
    "\n",
    "source /home/ec2-user/anaconda3/bin/deactivate\n",
    "\n",
    "EOF\n",
    "\n",
    "\n",
    "=======script end===========\n"
   ]
  },
  {
   "cell_type": "code",
   "execution_count": null,
   "metadata": {},
   "outputs": [],
   "source": []
  }
 ],
 "metadata": {
  "kernelspec": {
   "display_name": "conda_daskpy36",
   "language": "python",
   "name": "conda_daskpy36"
  },
  "language_info": {
   "codemirror_mode": {
    "name": "ipython",
    "version": 3
   },
   "file_extension": ".py",
   "mimetype": "text/x-python",
   "name": "python",
   "nbconvert_exporter": "python",
   "pygments_lexer": "ipython3",
   "version": "3.6.10"
  }
 },
 "nbformat": 4,
 "nbformat_minor": 4
}
